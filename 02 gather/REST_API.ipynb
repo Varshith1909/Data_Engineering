{
  "nbformat": 4,
  "nbformat_minor": 0,
  "metadata": {
    "colab": {
      "provenance": []
    },
    "kernelspec": {
      "name": "python3",
      "display_name": "Python 3"
    },
    "language_info": {
      "name": "python"
    }
  },
  "cells": [
    {
      "cell_type": "markdown",
      "source": [
        "import requests\n",
        "response = requests.get(\"https://api.thecatapi.com/v1/breeds\")\n",
        "response.text"
      ],
      "metadata": {
        "id": "Wb_JKUdYDPrj"
      }
    },
    {
      "cell_type": "code",
      "source": [
        "import requests\n",
        "from datetime import datetime, timedelta\n",
        "\n",
        "def get_next_class_day():\n",
        "    today = datetime.now()\n",
        "    if today.weekday() == 0:\n",
        "        next_class = today + timedelta(days=2)\n",
        "    elif today.weekday() == 2:\n",
        "        next_class = today + timedelta(days=5)\n",
        "    elif today.weekday() > 2:\n",
        "        next_class = today + timedelta(days=(7 - today.weekday()))\n",
        "    else:\n",
        "        next_class = today + timedelta(days=(0 - today.weekday()))\n",
        "    return next_class\n",
        "\n",
        "def fetch_weather(city_name, state_name=\"Oregon\"):\n",
        "    api_key = \"a87325d4d496d3ee39d6726344251a80\"\n",
        "    base_url = \"http://api.openweathermap.org/data/2.5/weather?\"\n",
        "    complete_url = base_url + \"appid=\" + api_key + \"&q=\" + city_name\n",
        "    response = requests.get(complete_url)\n",
        "    x = response.json()\n",
        "\n",
        "    if x[\"cod\"] != \"404\":\n",
        "        y = x[\"main\"]\n",
        "        current_temperature = y[\"temp\"]\n",
        "        current_pressure = y[\"pressure\"]\n",
        "        current_humidity = y[\"humidity\"]\n",
        "        z = x[\"weather\"]\n",
        "        weather_description = z[0][\"description\"]\n",
        "\n",
        "        location = x.get(\"sys\", {}).get(\"country\", \"Unavailable\")\n",
        "\n",
        "        print(f\"Temperature (in Kelvin) = {current_temperature}\"\n",
        "              f\"\\nAtmospheric pressure (in hPa) = {current_pressure}\"\n",
        "              f\"\\nHumidity (in percentage) = {current_humidity}\"\n",
        "              f\"\\nDescription = {weather_description}\"\n",
        "              f\"\\nLocation = {city_name}, {state_name}, {location}\")\n",
        "\n",
        "        if \"rain\" in weather_description:\n",
        "            print(f\"Yes, it is raining in {city_name}, {state_name}.\")\n",
        "        else:\n",
        "            print(f\"No, it is not raining in {city_name}, {state_name}.\")\n",
        "    else:\n",
        "        print(\"City Not Found\")\n",
        "\n",
        "def fetch_weather_forecast(city_name, state_name=\"Oregon\"):\n",
        "    api_key = \"a87325d4d496d3ee39d6726344251a80\"\n",
        "    base_url = \"http://api.openweathermap.org/data/2.5/forecast?\"\n",
        "    complete_url = base_url + \"appid=\" + api_key + \"&q=\" + city_name\n",
        "    response = requests.get(complete_url)\n",
        "    forecast_data = response.json()\n",
        "\n",
        "    if forecast_data[\"cod\"] != \"404\":\n",
        "        next_class_day = get_next_class_day()\n",
        "        for item in forecast_data['list']:\n",
        "            forecast_time = datetime.fromtimestamp(item['dt'])\n",
        "            if forecast_time.date() == next_class_day.date():\n",
        "                if 'rain' in item['weather'][0]['main'].lower():\n",
        "                    return f\"Yes, it is expected to rain in {city_name}, {state_name} on {next_class_day.strftime('%A, %B %d')}.\"\n",
        "        return f\"No, it is not expected to rain in {city_name}, {state_name} on {next_class_day.strftime('%A, %B %d')}.\"\n",
        "    else:\n",
        "        return \"City Not Found\"\n",
        "\n",
        "def main():\n",
        "    city_name = \"Portland\"\n",
        "    state_name = \"Oregon\"\n",
        "    fetch_weather(city_name, state_name)\n",
        "    rain_forecast = fetch_weather_forecast(city_name, state_name)\n",
        "    print(rain_forecast)\n",
        "\n",
        "if __name__ == \"__main__\":\n",
        "    main()\n"
      ],
      "metadata": {
        "colab": {
          "base_uri": "https://localhost:8080/"
        },
        "id": "UXb6_xp9NEmv",
        "outputId": "8474a626-9219-4026-82b1-22d81aee8b39"
      },
      "execution_count": 10,
      "outputs": [
        {
          "output_type": "stream",
          "name": "stdout",
          "text": [
            "Temperature (in Kelvin) = 290.73\n",
            "Atmospheric pressure (in hPa) = 1007\n",
            "Humidity (in percentage) = 58\n",
            "Description = broken clouds\n",
            "Location = Portland, Oregon, US\n",
            "No, it is not raining in Portland, Oregon.\n",
            "No, it is not expected to rain in Portland, Oregon on Monday, April 15.\n"
          ]
        }
      ]
    }
  ]
}