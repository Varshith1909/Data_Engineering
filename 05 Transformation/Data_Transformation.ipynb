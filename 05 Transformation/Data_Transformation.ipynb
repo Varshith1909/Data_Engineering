{
  "nbformat": 4,
  "nbformat_minor": 0,
  "metadata": {
    "colab": {
      "provenance": []
    },
    "kernelspec": {
      "name": "python3",
      "display_name": "Python 3"
    },
    "language_info": {
      "name": "python"
    }
  },
  "cells": [
    {
      "cell_type": "code",
      "execution_count": 38,
      "metadata": {
        "colab": {
          "base_uri": "https://localhost:8080/"
        },
        "id": "daiSh_pTve8F",
        "outputId": "4bc50ce6-7880-485d-fd5c-6fd683ce260a"
      },
      "outputs": [
        {
          "output_type": "stream",
          "name": "stdout",
          "text": [
            "   EVENT_NO_TRIP  EVENT_NO_STOP            OPD_DATE  VEHICLE_ID  METERS  \\\n",
            "0      259172515      259172517  15FEB2023:00:00:00        4223      40   \n",
            "1      259172515      259172517  15FEB2023:00:00:00        4223      48   \n",
            "2      259172515      259172517  15FEB2023:00:00:00        4223      57   \n",
            "3      259172515      259172517  15FEB2023:00:00:00        4223      73   \n",
            "4      259172515      259172517  15FEB2023:00:00:00        4223     112   \n",
            "\n",
            "   ACT_TIME  GPS_LONGITUDE  GPS_LATITUDE  GPS_SATELLITES  GPS_HDOP  \n",
            "0     20469    -122.648137     45.493082              12       0.7  \n",
            "1     20474    -122.648240     45.493070              12       0.8  \n",
            "2     20479    -122.648352     45.493123              12       0.8  \n",
            "3     20484    -122.648385     45.493262              12       0.7  \n",
            "4     20489    -122.648347     45.493582              12       0.8  \n"
          ]
        }
      ],
      "source": [
        "import pandas as pd\n",
        "\n",
        "df = pd.read_csv('/content/DE/bc_trip259172515_230215.csv')\n",
        "\n",
        "print(df.head())"
      ]
    },
    {
      "cell_type": "code",
      "source": [
        "df = pd.read_csv(filepath_or_buffer='/content/DE/bc_trip259172515_230215.csv',usecols=['EVENT_NO_TRIP','OPD_DATE', 'VEHICLE_ID', 'METERS', 'ACT_TIME', 'GPS_LONGITUDE', 'GPS_LATITUDE'])\n",
        "print(df)"
      ],
      "metadata": {
        "colab": {
          "base_uri": "https://localhost:8080/"
        },
        "id": "sYpzqEZZ8k1Q",
        "outputId": "0ee584b6-6480-4644-cb12-b0768b95a1ad"
      },
      "execution_count": 39,
      "outputs": [
        {
          "output_type": "stream",
          "name": "stdout",
          "text": [
            "     EVENT_NO_TRIP            OPD_DATE  VEHICLE_ID  METERS  ACT_TIME  \\\n",
            "0        259172515  15FEB2023:00:00:00        4223      40     20469   \n",
            "1        259172515  15FEB2023:00:00:00        4223      48     20474   \n",
            "2        259172515  15FEB2023:00:00:00        4223      57     20479   \n",
            "3        259172515  15FEB2023:00:00:00        4223      73     20484   \n",
            "4        259172515  15FEB2023:00:00:00        4223     112     20489   \n",
            "..             ...                 ...         ...     ...       ...   \n",
            "156      259172515  15FEB2023:00:00:00        4223    5834     21389   \n",
            "157      259172515  15FEB2023:00:00:00        4223    5838     21424   \n",
            "158      259172515  15FEB2023:00:00:00        4223    5858     21429   \n",
            "159      259172515  15FEB2023:00:00:00        4223    5889     21434   \n",
            "160      259172515  15FEB2023:00:00:00        4223    5918     21439   \n",
            "\n",
            "     GPS_LONGITUDE  GPS_LATITUDE  \n",
            "0      -122.648137     45.493082  \n",
            "1      -122.648240     45.493070  \n",
            "2      -122.648352     45.493123  \n",
            "3      -122.648385     45.493262  \n",
            "4      -122.648347     45.493582  \n",
            "..             ...           ...  \n",
            "156    -122.677057     45.528040  \n",
            "157    -122.677003     45.528037  \n",
            "158    -122.676765     45.528043  \n",
            "159    -122.676370     45.528047  \n",
            "160    -122.675990     45.528065  \n",
            "\n",
            "[161 rows x 7 columns]\n"
          ]
        }
      ]
    },
    {
      "cell_type": "code",
      "source": [
        "df['OPD_DATE'] = pd.to_datetime(df['OPD_DATE'], format='%d%b%Y:%H:%M:%S')\n",
        "\n",
        "df['ACT_TIME'] = pd.to_timedelta(df['ACT_TIME'], unit='s')\n",
        "\n",
        "df['TIMESTAMP'] = df['OPD_DATE'] + df['ACT_TIME']\n",
        "\n",
        "df = df.drop(columns = ['OPD_DATE', 'ACT_TIME'])\n",
        "\n",
        "print(df)"
      ],
      "metadata": {
        "colab": {
          "base_uri": "https://localhost:8080/"
        },
        "id": "6OigzluM-m8z",
        "outputId": "d0af16eb-fb72-4fba-d39f-12e081dedd86"
      },
      "execution_count": 40,
      "outputs": [
        {
          "output_type": "stream",
          "name": "stdout",
          "text": [
            "     EVENT_NO_TRIP  VEHICLE_ID  METERS  GPS_LONGITUDE  GPS_LATITUDE  \\\n",
            "0        259172515        4223      40    -122.648137     45.493082   \n",
            "1        259172515        4223      48    -122.648240     45.493070   \n",
            "2        259172515        4223      57    -122.648352     45.493123   \n",
            "3        259172515        4223      73    -122.648385     45.493262   \n",
            "4        259172515        4223     112    -122.648347     45.493582   \n",
            "..             ...         ...     ...            ...           ...   \n",
            "156      259172515        4223    5834    -122.677057     45.528040   \n",
            "157      259172515        4223    5838    -122.677003     45.528037   \n",
            "158      259172515        4223    5858    -122.676765     45.528043   \n",
            "159      259172515        4223    5889    -122.676370     45.528047   \n",
            "160      259172515        4223    5918    -122.675990     45.528065   \n",
            "\n",
            "              TIMESTAMP  \n",
            "0   2023-02-15 05:41:09  \n",
            "1   2023-02-15 05:41:14  \n",
            "2   2023-02-15 05:41:19  \n",
            "3   2023-02-15 05:41:24  \n",
            "4   2023-02-15 05:41:29  \n",
            "..                  ...  \n",
            "156 2023-02-15 05:56:29  \n",
            "157 2023-02-15 05:57:04  \n",
            "158 2023-02-15 05:57:09  \n",
            "159 2023-02-15 05:57:14  \n",
            "160 2023-02-15 05:57:19  \n",
            "\n",
            "[161 rows x 6 columns]\n"
          ]
        }
      ]
    },
    {
      "cell_type": "code",
      "source": [
        "df['TIMESTAMP'] = pd.to_datetime(df['TIMESTAMP'])\n",
        "\n",
        "df['dMETERS'] = df['METERS'].diff()\n",
        "df['dTIMESTAMP'] = df['TIMESTAMP'].diff()\n",
        "\n",
        "df['SPEED'] = df.apply(lambda row: row['dMETERS'] / row['dTIMESTAMP'].total_seconds() if row['dTIMESTAMP'] != pd.NaT else 0, axis=1)\n",
        "\n",
        "df = df.drop(['dMETERS', 'dTIMESTAMP'], axis=1)\n",
        "\n",
        "print(df)\n"
      ],
      "metadata": {
        "colab": {
          "base_uri": "https://localhost:8080/"
        },
        "id": "p7WtKnwSZrP-",
        "outputId": "7b68d0e5-6694-47fd-806b-8b2ec843f53c"
      },
      "execution_count": 41,
      "outputs": [
        {
          "output_type": "stream",
          "name": "stdout",
          "text": [
            "     EVENT_NO_TRIP  VEHICLE_ID  METERS  GPS_LONGITUDE  GPS_LATITUDE  \\\n",
            "0        259172515        4223      40    -122.648137     45.493082   \n",
            "1        259172515        4223      48    -122.648240     45.493070   \n",
            "2        259172515        4223      57    -122.648352     45.493123   \n",
            "3        259172515        4223      73    -122.648385     45.493262   \n",
            "4        259172515        4223     112    -122.648347     45.493582   \n",
            "..             ...         ...     ...            ...           ...   \n",
            "156      259172515        4223    5834    -122.677057     45.528040   \n",
            "157      259172515        4223    5838    -122.677003     45.528037   \n",
            "158      259172515        4223    5858    -122.676765     45.528043   \n",
            "159      259172515        4223    5889    -122.676370     45.528047   \n",
            "160      259172515        4223    5918    -122.675990     45.528065   \n",
            "\n",
            "              TIMESTAMP     SPEED  \n",
            "0   2023-02-15 05:41:09       NaN  \n",
            "1   2023-02-15 05:41:14  1.600000  \n",
            "2   2023-02-15 05:41:19  1.800000  \n",
            "3   2023-02-15 05:41:24  3.200000  \n",
            "4   2023-02-15 05:41:29  7.800000  \n",
            "..                  ...       ...  \n",
            "156 2023-02-15 05:56:29  2.800000  \n",
            "157 2023-02-15 05:57:04  0.114286  \n",
            "158 2023-02-15 05:57:09  4.000000  \n",
            "159 2023-02-15 05:57:14  6.200000  \n",
            "160 2023-02-15 05:57:19  5.800000  \n",
            "\n",
            "[161 rows x 7 columns]\n"
          ]
        }
      ]
    },
    {
      "cell_type": "code",
      "source": [
        "df['SPEED'].describe()"
      ],
      "metadata": {
        "colab": {
          "base_uri": "https://localhost:8080/"
        },
        "id": "LNvHzgL8DHCc",
        "outputId": "fb1331aa-dd8b-46f4-d788-5cdb52aa0ac8"
      },
      "execution_count": 43,
      "outputs": [
        {
          "output_type": "execute_result",
          "data": {
            "text/plain": [
              "count    160.000000\n",
              "mean       7.227206\n",
              "std        4.420604\n",
              "min        0.000000\n",
              "25%        3.800000\n",
              "50%        6.400000\n",
              "75%       10.850000\n",
              "max       17.400000\n",
              "Name: SPEED, dtype: float64"
            ]
          },
          "metadata": {},
          "execution_count": 43
        }
      ]
    },
    {
      "cell_type": "code",
      "source": [
        "df1 = pd.read_csv('/content/DE/bc_veh4223_230215.csv')\n",
        "\n",
        "print(df1)"
      ],
      "metadata": {
        "colab": {
          "base_uri": "https://localhost:8080/"
        },
        "id": "1OdyOdmtDlJQ",
        "outputId": "40500502-be12-493e-b3a0-a300d421e0c6"
      },
      "execution_count": 68,
      "outputs": [
        {
          "output_type": "stream",
          "name": "stdout",
          "text": [
            "      EVENT_NO_TRIP  EVENT_NO_STOP            OPD_DATE  VEHICLE_ID  METERS  \\\n",
            "0         259173279      259173350  15FEB2023:00:00:00        4223  194493   \n",
            "1         259173279      259173350  15FEB2023:00:00:00        4223  194525   \n",
            "2         259173279      259173350  15FEB2023:00:00:00        4223  194562   \n",
            "3         259173279      259173350  15FEB2023:00:00:00        4223  194598   \n",
            "4         259173279      259173350  15FEB2023:00:00:00        4223  194628   \n",
            "...             ...            ...                 ...         ...     ...   \n",
            "7401      259173498      259173583  15FEB2023:00:00:00        4223  251109   \n",
            "7402      259173498      259173583  15FEB2023:00:00:00        4223  251162   \n",
            "7403      259173498      259173583  15FEB2023:00:00:00        4223  251199   \n",
            "7404      259173498      259173583  15FEB2023:00:00:00        4223  251238   \n",
            "7405      259173498      259173583  15FEB2023:00:00:00        4223  251289   \n",
            "\n",
            "      ACT_TIME  GPS_LONGITUDE  GPS_LATITUDE  GPS_SATELLITES  GPS_HDOP  \n",
            "0        71279    -122.679572     45.517122               8       1.6  \n",
            "1        71284    -122.679408     45.517392               8       1.9  \n",
            "2        71290    -122.679227     45.517700               8       2.2  \n",
            "3        71295    -122.679048     45.517998               9       0.9  \n",
            "4        71300    -122.678888     45.518255               9       1.3  \n",
            "...        ...            ...           ...             ...       ...  \n",
            "7401     84315    -122.641148     45.539688              12       0.8  \n",
            "7402     84320    -122.641138     45.540175              12       0.7  \n",
            "7403     84325    -122.641107     45.540512              12       0.7  \n",
            "7404     84330    -122.641142     45.540860              12       0.7  \n",
            "7405     84335    -122.641140     45.541325              12       0.7  \n",
            "\n",
            "[7406 rows x 10 columns]\n"
          ]
        }
      ]
    },
    {
      "cell_type": "code",
      "source": [
        "df1 = pd.read_csv(filepath_or_buffer='/content/DE/bc_veh4223_230215.csv',usecols=['EVENT_NO_TRIP','OPD_DATE', 'VEHICLE_ID', 'METERS', 'ACT_TIME', 'GPS_LONGITUDE', 'GPS_LATITUDE'])\n",
        "print(df1)"
      ],
      "metadata": {
        "colab": {
          "base_uri": "https://localhost:8080/"
        },
        "id": "sL4FvC0uDrJb",
        "outputId": "f787e96b-3a5f-4187-aaa2-a9f49d91d1c9"
      },
      "execution_count": 75,
      "outputs": [
        {
          "output_type": "stream",
          "name": "stdout",
          "text": [
            "      EVENT_NO_TRIP            OPD_DATE  VEHICLE_ID  METERS  ACT_TIME  \\\n",
            "0         259173279  15FEB2023:00:00:00        4223  194493     71279   \n",
            "1         259173279  15FEB2023:00:00:00        4223  194525     71284   \n",
            "2         259173279  15FEB2023:00:00:00        4223  194562     71290   \n",
            "3         259173279  15FEB2023:00:00:00        4223  194598     71295   \n",
            "4         259173279  15FEB2023:00:00:00        4223  194628     71300   \n",
            "...             ...                 ...         ...     ...       ...   \n",
            "7401      259173498  15FEB2023:00:00:00        4223  251109     84315   \n",
            "7402      259173498  15FEB2023:00:00:00        4223  251162     84320   \n",
            "7403      259173498  15FEB2023:00:00:00        4223  251199     84325   \n",
            "7404      259173498  15FEB2023:00:00:00        4223  251238     84330   \n",
            "7405      259173498  15FEB2023:00:00:00        4223  251289     84335   \n",
            "\n",
            "      GPS_LONGITUDE  GPS_LATITUDE  \n",
            "0       -122.679572     45.517122  \n",
            "1       -122.679408     45.517392  \n",
            "2       -122.679227     45.517700  \n",
            "3       -122.679048     45.517998  \n",
            "4       -122.678888     45.518255  \n",
            "...             ...           ...  \n",
            "7401    -122.641148     45.539688  \n",
            "7402    -122.641138     45.540175  \n",
            "7403    -122.641107     45.540512  \n",
            "7404    -122.641142     45.540860  \n",
            "7405    -122.641140     45.541325  \n",
            "\n",
            "[7406 rows x 7 columns]\n"
          ]
        }
      ]
    },
    {
      "cell_type": "code",
      "source": [
        "df1['OPD_DATE'] = pd.to_datetime(df1['OPD_DATE'], format='%d%b%Y:%H:%M:%S')\n",
        "df1['ACT_TIME'] = pd.to_timedelta(df1['ACT_TIME'], unit='s')\n",
        "df1['TIMESTAMP'] = df1['OPD_DATE'] + df1['ACT_TIME']\n",
        "df1 = df1.drop(columns=['OPD_DATE', 'ACT_TIME'])\n",
        "print(df1.head())"
      ],
      "metadata": {
        "colab": {
          "base_uri": "https://localhost:8080/"
        },
        "id": "N4vym5imQnqZ",
        "outputId": "8aa0b81c-a510-446a-bf23-24510ddaaa93"
      },
      "execution_count": 76,
      "outputs": [
        {
          "output_type": "stream",
          "name": "stdout",
          "text": [
            "   EVENT_NO_TRIP  VEHICLE_ID  METERS  GPS_LONGITUDE  GPS_LATITUDE  \\\n",
            "0      259173279        4223  194493    -122.679572     45.517122   \n",
            "1      259173279        4223  194525    -122.679408     45.517392   \n",
            "2      259173279        4223  194562    -122.679227     45.517700   \n",
            "3      259173279        4223  194598    -122.679048     45.517998   \n",
            "4      259173279        4223  194628    -122.678888     45.518255   \n",
            "\n",
            "            TIMESTAMP  \n",
            "0 2023-02-15 19:47:59  \n",
            "1 2023-02-15 19:48:04  \n",
            "2 2023-02-15 19:48:10  \n",
            "3 2023-02-15 19:48:15  \n",
            "4 2023-02-15 19:48:20  \n"
          ]
        }
      ]
    },
    {
      "cell_type": "code",
      "source": [
        "def calculate_speed(data):\n",
        "    data['dMETERS'] = data['METERS'].diff()\n",
        "    data['dTIMESTAMP'] = data['TIMESTAMP'].diff().dt.total_seconds()\n",
        "    data['SPEED'] = data.apply(lambda row: row['dMETERS'] / row['dTIMESTAMP'] if row['dTIMESTAMP'] > 0 else 0, axis=1)\n",
        "    return data.drop(['dMETERS', 'dTIMESTAMP'], axis=1)\n",
        "\n",
        "df1 = df1.groupby('EVENT_NO_TRIP').apply(calculate_speed)\n",
        "\n",
        "print(df1)"
      ],
      "metadata": {
        "colab": {
          "base_uri": "https://localhost:8080/"
        },
        "id": "FHN0B-VGSBM7",
        "outputId": "049556e1-1b60-4fe0-9ccd-78bbd920f928"
      },
      "execution_count": 77,
      "outputs": [
        {
          "output_type": "stream",
          "name": "stdout",
          "text": [
            "                    EVENT_NO_TRIP  VEHICLE_ID  METERS  GPS_LONGITUDE  \\\n",
            "EVENT_NO_TRIP                                                          \n",
            "259169000     3617      259169000        4029    4223    -122.684340   \n",
            "259172515     2313      259172515        4223      40    -122.648137   \n",
            "              2314      259172515        4223      48    -122.648240   \n",
            "              2315      259172515        4223      57    -122.648352   \n",
            "              2316      259172515        4223      73    -122.648385   \n",
            "...                           ...         ...     ...            ...   \n",
            "259173705     6956      259173705        4223  291135    -122.639393   \n",
            "              6957      259173705        4223  291135    -122.639393   \n",
            "              6958      259173705        4223  291135    -122.639393   \n",
            "              6959      259173705        4223  291156    -122.639688   \n",
            "              6960      259173705        4223  291208    -122.640383   \n",
            "\n",
            "                    GPS_LATITUDE           TIMESTAMP  SPEED  \n",
            "EVENT_NO_TRIP                                                \n",
            "259169000     3617     45.508072 2023-02-15 07:07:21    0.0  \n",
            "259172515     2313     45.493082 2023-02-15 05:41:09    0.0  \n",
            "              2314     45.493070 2023-02-15 05:41:14    1.6  \n",
            "              2315     45.493123 2023-02-15 05:41:19    1.8  \n",
            "              2316     45.493262 2023-02-15 05:41:24    3.2  \n",
            "...                          ...                 ...    ...  \n",
            "259173705     6956     45.490315 2023-02-16 01:29:48    2.6  \n",
            "              6957     45.490315 2023-02-16 01:29:49    0.0  \n",
            "              6958     45.490315 2023-02-16 01:29:53    0.0  \n",
            "              6959     45.490315 2023-02-16 01:29:58    4.2  \n",
            "              6960     45.490312 2023-02-16 01:30:03   10.4  \n",
            "\n",
            "[7406 rows x 7 columns]\n"
          ]
        },
        {
          "output_type": "stream",
          "name": "stderr",
          "text": [
            "<ipython-input-77-ab3998edcb5b>:7: DeprecationWarning: DataFrameGroupBy.apply operated on the grouping columns. This behavior is deprecated, and in a future version of pandas the grouping columns will be excluded from the operation. Either pass `include_groups=False` to exclude the groupings or explicitly select the grouping columns after groupby to silence this warning.\n",
            "  df1 = df1.groupby('EVENT_NO_TRIP').apply(calculate_speed)\n"
          ]
        }
      ]
    },
    {
      "cell_type": "code",
      "source": [
        "df1 = df1.drop(columns= ['METERS', 'TIMESTAMP'])\n",
        "df1.head()"
      ],
      "metadata": {
        "colab": {
          "base_uri": "https://localhost:8080/",
          "height": 238
        },
        "id": "-7RSaJjVSeR6",
        "outputId": "bebee003-9e3c-48dc-d934-defc057e0766"
      },
      "execution_count": 78,
      "outputs": [
        {
          "output_type": "execute_result",
          "data": {
            "text/plain": [
              "                    EVENT_NO_TRIP  VEHICLE_ID  GPS_LONGITUDE  GPS_LATITUDE  \\\n",
              "EVENT_NO_TRIP                                                                \n",
              "259169000     3617      259169000        4029    -122.684340     45.508072   \n",
              "259172515     2313      259172515        4223    -122.648137     45.493082   \n",
              "              2314      259172515        4223    -122.648240     45.493070   \n",
              "              2315      259172515        4223    -122.648352     45.493123   \n",
              "              2316      259172515        4223    -122.648385     45.493262   \n",
              "\n",
              "                    SPEED  \n",
              "EVENT_NO_TRIP              \n",
              "259169000     3617    0.0  \n",
              "259172515     2313    0.0  \n",
              "              2314    1.6  \n",
              "              2315    1.8  \n",
              "              2316    3.2  "
            ],
            "text/html": [
              "\n",
              "  <div id=\"df-26a5df08-7ae8-40a3-a872-0db15c3aca78\" class=\"colab-df-container\">\n",
              "    <div>\n",
              "<style scoped>\n",
              "    .dataframe tbody tr th:only-of-type {\n",
              "        vertical-align: middle;\n",
              "    }\n",
              "\n",
              "    .dataframe tbody tr th {\n",
              "        vertical-align: top;\n",
              "    }\n",
              "\n",
              "    .dataframe thead th {\n",
              "        text-align: right;\n",
              "    }\n",
              "</style>\n",
              "<table border=\"1\" class=\"dataframe\">\n",
              "  <thead>\n",
              "    <tr style=\"text-align: right;\">\n",
              "      <th></th>\n",
              "      <th></th>\n",
              "      <th>EVENT_NO_TRIP</th>\n",
              "      <th>VEHICLE_ID</th>\n",
              "      <th>GPS_LONGITUDE</th>\n",
              "      <th>GPS_LATITUDE</th>\n",
              "      <th>SPEED</th>\n",
              "    </tr>\n",
              "    <tr>\n",
              "      <th>EVENT_NO_TRIP</th>\n",
              "      <th></th>\n",
              "      <th></th>\n",
              "      <th></th>\n",
              "      <th></th>\n",
              "      <th></th>\n",
              "      <th></th>\n",
              "    </tr>\n",
              "  </thead>\n",
              "  <tbody>\n",
              "    <tr>\n",
              "      <th>259169000</th>\n",
              "      <th>3617</th>\n",
              "      <td>259169000</td>\n",
              "      <td>4029</td>\n",
              "      <td>-122.684340</td>\n",
              "      <td>45.508072</td>\n",
              "      <td>0.0</td>\n",
              "    </tr>\n",
              "    <tr>\n",
              "      <th rowspan=\"4\" valign=\"top\">259172515</th>\n",
              "      <th>2313</th>\n",
              "      <td>259172515</td>\n",
              "      <td>4223</td>\n",
              "      <td>-122.648137</td>\n",
              "      <td>45.493082</td>\n",
              "      <td>0.0</td>\n",
              "    </tr>\n",
              "    <tr>\n",
              "      <th>2314</th>\n",
              "      <td>259172515</td>\n",
              "      <td>4223</td>\n",
              "      <td>-122.648240</td>\n",
              "      <td>45.493070</td>\n",
              "      <td>1.6</td>\n",
              "    </tr>\n",
              "    <tr>\n",
              "      <th>2315</th>\n",
              "      <td>259172515</td>\n",
              "      <td>4223</td>\n",
              "      <td>-122.648352</td>\n",
              "      <td>45.493123</td>\n",
              "      <td>1.8</td>\n",
              "    </tr>\n",
              "    <tr>\n",
              "      <th>2316</th>\n",
              "      <td>259172515</td>\n",
              "      <td>4223</td>\n",
              "      <td>-122.648385</td>\n",
              "      <td>45.493262</td>\n",
              "      <td>3.2</td>\n",
              "    </tr>\n",
              "  </tbody>\n",
              "</table>\n",
              "</div>\n",
              "    <div class=\"colab-df-buttons\">\n",
              "\n",
              "  <div class=\"colab-df-container\">\n",
              "    <button class=\"colab-df-convert\" onclick=\"convertToInteractive('df-26a5df08-7ae8-40a3-a872-0db15c3aca78')\"\n",
              "            title=\"Convert this dataframe to an interactive table.\"\n",
              "            style=\"display:none;\">\n",
              "\n",
              "  <svg xmlns=\"http://www.w3.org/2000/svg\" height=\"24px\" viewBox=\"0 -960 960 960\">\n",
              "    <path d=\"M120-120v-720h720v720H120Zm60-500h600v-160H180v160Zm220 220h160v-160H400v160Zm0 220h160v-160H400v160ZM180-400h160v-160H180v160Zm440 0h160v-160H620v160ZM180-180h160v-160H180v160Zm440 0h160v-160H620v160Z\"/>\n",
              "  </svg>\n",
              "    </button>\n",
              "\n",
              "  <style>\n",
              "    .colab-df-container {\n",
              "      display:flex;\n",
              "      gap: 12px;\n",
              "    }\n",
              "\n",
              "    .colab-df-convert {\n",
              "      background-color: #E8F0FE;\n",
              "      border: none;\n",
              "      border-radius: 50%;\n",
              "      cursor: pointer;\n",
              "      display: none;\n",
              "      fill: #1967D2;\n",
              "      height: 32px;\n",
              "      padding: 0 0 0 0;\n",
              "      width: 32px;\n",
              "    }\n",
              "\n",
              "    .colab-df-convert:hover {\n",
              "      background-color: #E2EBFA;\n",
              "      box-shadow: 0px 1px 2px rgba(60, 64, 67, 0.3), 0px 1px 3px 1px rgba(60, 64, 67, 0.15);\n",
              "      fill: #174EA6;\n",
              "    }\n",
              "\n",
              "    .colab-df-buttons div {\n",
              "      margin-bottom: 4px;\n",
              "    }\n",
              "\n",
              "    [theme=dark] .colab-df-convert {\n",
              "      background-color: #3B4455;\n",
              "      fill: #D2E3FC;\n",
              "    }\n",
              "\n",
              "    [theme=dark] .colab-df-convert:hover {\n",
              "      background-color: #434B5C;\n",
              "      box-shadow: 0px 1px 3px 1px rgba(0, 0, 0, 0.15);\n",
              "      filter: drop-shadow(0px 1px 2px rgba(0, 0, 0, 0.3));\n",
              "      fill: #FFFFFF;\n",
              "    }\n",
              "  </style>\n",
              "\n",
              "    <script>\n",
              "      const buttonEl =\n",
              "        document.querySelector('#df-26a5df08-7ae8-40a3-a872-0db15c3aca78 button.colab-df-convert');\n",
              "      buttonEl.style.display =\n",
              "        google.colab.kernel.accessAllowed ? 'block' : 'none';\n",
              "\n",
              "      async function convertToInteractive(key) {\n",
              "        const element = document.querySelector('#df-26a5df08-7ae8-40a3-a872-0db15c3aca78');\n",
              "        const dataTable =\n",
              "          await google.colab.kernel.invokeFunction('convertToInteractive',\n",
              "                                                    [key], {});\n",
              "        if (!dataTable) return;\n",
              "\n",
              "        const docLinkHtml = 'Like what you see? Visit the ' +\n",
              "          '<a target=\"_blank\" href=https://colab.research.google.com/notebooks/data_table.ipynb>data table notebook</a>'\n",
              "          + ' to learn more about interactive tables.';\n",
              "        element.innerHTML = '';\n",
              "        dataTable['output_type'] = 'display_data';\n",
              "        await google.colab.output.renderOutput(dataTable, element);\n",
              "        const docLink = document.createElement('div');\n",
              "        docLink.innerHTML = docLinkHtml;\n",
              "        element.appendChild(docLink);\n",
              "      }\n",
              "    </script>\n",
              "  </div>\n",
              "\n",
              "\n",
              "<div id=\"df-5c88d303-3885-4895-963e-98d57fa267fd\">\n",
              "  <button class=\"colab-df-quickchart\" onclick=\"quickchart('df-5c88d303-3885-4895-963e-98d57fa267fd')\"\n",
              "            title=\"Suggest charts\"\n",
              "            style=\"display:none;\">\n",
              "\n",
              "<svg xmlns=\"http://www.w3.org/2000/svg\" height=\"24px\"viewBox=\"0 0 24 24\"\n",
              "     width=\"24px\">\n",
              "    <g>\n",
              "        <path d=\"M19 3H5c-1.1 0-2 .9-2 2v14c0 1.1.9 2 2 2h14c1.1 0 2-.9 2-2V5c0-1.1-.9-2-2-2zM9 17H7v-7h2v7zm4 0h-2V7h2v10zm4 0h-2v-4h2v4z\"/>\n",
              "    </g>\n",
              "</svg>\n",
              "  </button>\n",
              "\n",
              "<style>\n",
              "  .colab-df-quickchart {\n",
              "      --bg-color: #E8F0FE;\n",
              "      --fill-color: #1967D2;\n",
              "      --hover-bg-color: #E2EBFA;\n",
              "      --hover-fill-color: #174EA6;\n",
              "      --disabled-fill-color: #AAA;\n",
              "      --disabled-bg-color: #DDD;\n",
              "  }\n",
              "\n",
              "  [theme=dark] .colab-df-quickchart {\n",
              "      --bg-color: #3B4455;\n",
              "      --fill-color: #D2E3FC;\n",
              "      --hover-bg-color: #434B5C;\n",
              "      --hover-fill-color: #FFFFFF;\n",
              "      --disabled-bg-color: #3B4455;\n",
              "      --disabled-fill-color: #666;\n",
              "  }\n",
              "\n",
              "  .colab-df-quickchart {\n",
              "    background-color: var(--bg-color);\n",
              "    border: none;\n",
              "    border-radius: 50%;\n",
              "    cursor: pointer;\n",
              "    display: none;\n",
              "    fill: var(--fill-color);\n",
              "    height: 32px;\n",
              "    padding: 0;\n",
              "    width: 32px;\n",
              "  }\n",
              "\n",
              "  .colab-df-quickchart:hover {\n",
              "    background-color: var(--hover-bg-color);\n",
              "    box-shadow: 0 1px 2px rgba(60, 64, 67, 0.3), 0 1px 3px 1px rgba(60, 64, 67, 0.15);\n",
              "    fill: var(--button-hover-fill-color);\n",
              "  }\n",
              "\n",
              "  .colab-df-quickchart-complete:disabled,\n",
              "  .colab-df-quickchart-complete:disabled:hover {\n",
              "    background-color: var(--disabled-bg-color);\n",
              "    fill: var(--disabled-fill-color);\n",
              "    box-shadow: none;\n",
              "  }\n",
              "\n",
              "  .colab-df-spinner {\n",
              "    border: 2px solid var(--fill-color);\n",
              "    border-color: transparent;\n",
              "    border-bottom-color: var(--fill-color);\n",
              "    animation:\n",
              "      spin 1s steps(1) infinite;\n",
              "  }\n",
              "\n",
              "  @keyframes spin {\n",
              "    0% {\n",
              "      border-color: transparent;\n",
              "      border-bottom-color: var(--fill-color);\n",
              "      border-left-color: var(--fill-color);\n",
              "    }\n",
              "    20% {\n",
              "      border-color: transparent;\n",
              "      border-left-color: var(--fill-color);\n",
              "      border-top-color: var(--fill-color);\n",
              "    }\n",
              "    30% {\n",
              "      border-color: transparent;\n",
              "      border-left-color: var(--fill-color);\n",
              "      border-top-color: var(--fill-color);\n",
              "      border-right-color: var(--fill-color);\n",
              "    }\n",
              "    40% {\n",
              "      border-color: transparent;\n",
              "      border-right-color: var(--fill-color);\n",
              "      border-top-color: var(--fill-color);\n",
              "    }\n",
              "    60% {\n",
              "      border-color: transparent;\n",
              "      border-right-color: var(--fill-color);\n",
              "    }\n",
              "    80% {\n",
              "      border-color: transparent;\n",
              "      border-right-color: var(--fill-color);\n",
              "      border-bottom-color: var(--fill-color);\n",
              "    }\n",
              "    90% {\n",
              "      border-color: transparent;\n",
              "      border-bottom-color: var(--fill-color);\n",
              "    }\n",
              "  }\n",
              "</style>\n",
              "\n",
              "  <script>\n",
              "    async function quickchart(key) {\n",
              "      const quickchartButtonEl =\n",
              "        document.querySelector('#' + key + ' button');\n",
              "      quickchartButtonEl.disabled = true;  // To prevent multiple clicks.\n",
              "      quickchartButtonEl.classList.add('colab-df-spinner');\n",
              "      try {\n",
              "        const charts = await google.colab.kernel.invokeFunction(\n",
              "            'suggestCharts', [key], {});\n",
              "      } catch (error) {\n",
              "        console.error('Error during call to suggestCharts:', error);\n",
              "      }\n",
              "      quickchartButtonEl.classList.remove('colab-df-spinner');\n",
              "      quickchartButtonEl.classList.add('colab-df-quickchart-complete');\n",
              "    }\n",
              "    (() => {\n",
              "      let quickchartButtonEl =\n",
              "        document.querySelector('#df-5c88d303-3885-4895-963e-98d57fa267fd button');\n",
              "      quickchartButtonEl.style.display =\n",
              "        google.colab.kernel.accessAllowed ? 'block' : 'none';\n",
              "    })();\n",
              "  </script>\n",
              "</div>\n",
              "    </div>\n",
              "  </div>\n"
            ],
            "application/vnd.google.colaboratory.intrinsic+json": {
              "type": "dataframe",
              "variable_name": "df1",
              "summary": "{\n  \"name\": \"df1\",\n  \"rows\": 7406,\n  \"fields\": [\n    {\n      \"column\": \"EVENT_NO_TRIP\",\n      \"properties\": {\n        \"dtype\": \"number\",\n        \"std\": 364,\n        \"min\": 259169000,\n        \"max\": 259173705,\n        \"samples\": [\n          259173279,\n          259173498,\n          259169000\n        ],\n        \"num_unique_values\": 15,\n        \"semantic_type\": \"\",\n        \"description\": \"\"\n      }\n    },\n    {\n      \"column\": \"VEHICLE_ID\",\n      \"properties\": {\n        \"dtype\": \"number\",\n        \"std\": 2,\n        \"min\": 4029,\n        \"max\": 4223,\n        \"samples\": [\n          4223,\n          4029\n        ],\n        \"num_unique_values\": 2,\n        \"semantic_type\": \"\",\n        \"description\": \"\"\n      }\n    },\n    {\n      \"column\": \"GPS_LONGITUDE\",\n      \"properties\": {\n        \"dtype\": \"number\",\n        \"std\": 0.044390860660930634,\n        \"min\": -122.68434,\n        \"max\": -122.523477,\n        \"samples\": [\n          -122.665585,\n          -122.5543\n        ],\n        \"num_unique_values\": 5555,\n        \"semantic_type\": \"\",\n        \"description\": \"\"\n      }\n    },\n    {\n      \"column\": \"GPS_LATITUDE\",\n      \"properties\": {\n        \"dtype\": \"number\",\n        \"std\": 0.025299675120428636,\n        \"min\": 45.48867,\n        \"max\": 45.573045,\n        \"samples\": [\n          45.53,\n          45.547985\n        ],\n        \"num_unique_values\": 4606,\n        \"semantic_type\": \"\",\n        \"description\": \"\"\n      }\n    },\n    {\n      \"column\": \"SPEED\",\n      \"properties\": {\n        \"dtype\": \"number\",\n        \"std\": 3.9423116270636704,\n        \"min\": 0.0,\n        \"max\": 17.4,\n        \"samples\": [\n          1.3666666666666667,\n          0.36065573770491804\n        ],\n        \"num_unique_values\": 519,\n        \"semantic_type\": \"\",\n        \"description\": \"\"\n      }\n    }\n  ]\n}"
            }
          },
          "metadata": {},
          "execution_count": 78
        }
      ]
    },
    {
      "cell_type": "code",
      "source": [
        "df1['SPEED'].describe()"
      ],
      "metadata": {
        "colab": {
          "base_uri": "https://localhost:8080/"
        },
        "id": "b2MnLk0eSvr6",
        "outputId": "3dce35bf-eae2-41c7-d316-a48448a22ec0"
      },
      "execution_count": 79,
      "outputs": [
        {
          "output_type": "execute_result",
          "data": {
            "text/plain": [
              "count    7406.000000\n",
              "mean        7.146800\n",
              "std         3.942312\n",
              "min         0.000000\n",
              "25%         4.200000\n",
              "50%         7.200000\n",
              "75%        10.200000\n",
              "max        17.400000\n",
              "Name: SPEED, dtype: float64"
            ]
          },
          "metadata": {},
          "execution_count": 79
        }
      ]
    },
    {
      "cell_type": "code",
      "source": [
        "max_speed_4223 = df1['SPEED'].max()\n",
        "max_speed_4223 = df1.loc[df1['SPEED'] == max_speed_4223]\n",
        "print(max_speed_4223)"
      ],
      "metadata": {
        "colab": {
          "base_uri": "https://localhost:8080/"
        },
        "id": "o75Q-9IEjbX-",
        "outputId": "c49a9da7-ec91-4246-f977-9f5e6161b907"
      },
      "execution_count": 103,
      "outputs": [
        {
          "output_type": "stream",
          "name": "stdout",
          "text": [
            "                    EVENT_NO_TRIP  VEHICLE_ID  GPS_LONGITUDE  GPS_LATITUDE  \\\n",
            "EVENT_NO_TRIP                                                                \n",
            "259172515     2356      259172515        4223    -122.660822     45.505452   \n",
            "259173647     6573      259173647        4223    -122.535638     45.489627   \n",
            "\n",
            "                    SPEED  \n",
            "EVENT_NO_TRIP              \n",
            "259172515     2356   17.4  \n",
            "259173647     6573   17.4  \n"
          ]
        }
      ]
    },
    {
      "cell_type": "code",
      "source": [
        "df2 = pd.read_csv('/content/DE/bc_230215.csv')\n",
        "df2.head()"
      ],
      "metadata": {
        "colab": {
          "base_uri": "https://localhost:8080/",
          "height": 206
        },
        "id": "xLEK92TqTU3U",
        "outputId": "48a9baa3-a8de-4b09-c2c2-c881cc570514"
      },
      "execution_count": 105,
      "outputs": [
        {
          "output_type": "execute_result",
          "data": {
            "text/plain": [
              "   EVENT_NO_TRIP  EVENT_NO_STOP            OPD_DATE  VEHICLE_ID  METERS  \\\n",
              "0      259173279      259173350  15FEB2023:00:00:00        4223  194493   \n",
              "1      259173279      259173350  15FEB2023:00:00:00        4223  194525   \n",
              "2      259173279      259173350  15FEB2023:00:00:00        4223  194562   \n",
              "3      259173279      259173350  15FEB2023:00:00:00        4223  194598   \n",
              "4      259173279      259173350  15FEB2023:00:00:00        4223  194628   \n",
              "\n",
              "   ACT_TIME  GPS_LONGITUDE  GPS_LATITUDE  GPS_SATELLITES  GPS_HDOP  \n",
              "0     71279    -122.679572     45.517122             8.0       1.6  \n",
              "1     71284    -122.679408     45.517392             8.0       1.9  \n",
              "2     71290    -122.679227     45.517700             8.0       2.2  \n",
              "3     71295    -122.679048     45.517998             9.0       0.9  \n",
              "4     71300    -122.678888     45.518255             9.0       1.3  "
            ],
            "text/html": [
              "\n",
              "  <div id=\"df-48b84379-0e9c-40fe-827c-02017dc64374\" class=\"colab-df-container\">\n",
              "    <div>\n",
              "<style scoped>\n",
              "    .dataframe tbody tr th:only-of-type {\n",
              "        vertical-align: middle;\n",
              "    }\n",
              "\n",
              "    .dataframe tbody tr th {\n",
              "        vertical-align: top;\n",
              "    }\n",
              "\n",
              "    .dataframe thead th {\n",
              "        text-align: right;\n",
              "    }\n",
              "</style>\n",
              "<table border=\"1\" class=\"dataframe\">\n",
              "  <thead>\n",
              "    <tr style=\"text-align: right;\">\n",
              "      <th></th>\n",
              "      <th>EVENT_NO_TRIP</th>\n",
              "      <th>EVENT_NO_STOP</th>\n",
              "      <th>OPD_DATE</th>\n",
              "      <th>VEHICLE_ID</th>\n",
              "      <th>METERS</th>\n",
              "      <th>ACT_TIME</th>\n",
              "      <th>GPS_LONGITUDE</th>\n",
              "      <th>GPS_LATITUDE</th>\n",
              "      <th>GPS_SATELLITES</th>\n",
              "      <th>GPS_HDOP</th>\n",
              "    </tr>\n",
              "  </thead>\n",
              "  <tbody>\n",
              "    <tr>\n",
              "      <th>0</th>\n",
              "      <td>259173279</td>\n",
              "      <td>259173350</td>\n",
              "      <td>15FEB2023:00:00:00</td>\n",
              "      <td>4223</td>\n",
              "      <td>194493</td>\n",
              "      <td>71279</td>\n",
              "      <td>-122.679572</td>\n",
              "      <td>45.517122</td>\n",
              "      <td>8.0</td>\n",
              "      <td>1.6</td>\n",
              "    </tr>\n",
              "    <tr>\n",
              "      <th>1</th>\n",
              "      <td>259173279</td>\n",
              "      <td>259173350</td>\n",
              "      <td>15FEB2023:00:00:00</td>\n",
              "      <td>4223</td>\n",
              "      <td>194525</td>\n",
              "      <td>71284</td>\n",
              "      <td>-122.679408</td>\n",
              "      <td>45.517392</td>\n",
              "      <td>8.0</td>\n",
              "      <td>1.9</td>\n",
              "    </tr>\n",
              "    <tr>\n",
              "      <th>2</th>\n",
              "      <td>259173279</td>\n",
              "      <td>259173350</td>\n",
              "      <td>15FEB2023:00:00:00</td>\n",
              "      <td>4223</td>\n",
              "      <td>194562</td>\n",
              "      <td>71290</td>\n",
              "      <td>-122.679227</td>\n",
              "      <td>45.517700</td>\n",
              "      <td>8.0</td>\n",
              "      <td>2.2</td>\n",
              "    </tr>\n",
              "    <tr>\n",
              "      <th>3</th>\n",
              "      <td>259173279</td>\n",
              "      <td>259173350</td>\n",
              "      <td>15FEB2023:00:00:00</td>\n",
              "      <td>4223</td>\n",
              "      <td>194598</td>\n",
              "      <td>71295</td>\n",
              "      <td>-122.679048</td>\n",
              "      <td>45.517998</td>\n",
              "      <td>9.0</td>\n",
              "      <td>0.9</td>\n",
              "    </tr>\n",
              "    <tr>\n",
              "      <th>4</th>\n",
              "      <td>259173279</td>\n",
              "      <td>259173350</td>\n",
              "      <td>15FEB2023:00:00:00</td>\n",
              "      <td>4223</td>\n",
              "      <td>194628</td>\n",
              "      <td>71300</td>\n",
              "      <td>-122.678888</td>\n",
              "      <td>45.518255</td>\n",
              "      <td>9.0</td>\n",
              "      <td>1.3</td>\n",
              "    </tr>\n",
              "  </tbody>\n",
              "</table>\n",
              "</div>\n",
              "    <div class=\"colab-df-buttons\">\n",
              "\n",
              "  <div class=\"colab-df-container\">\n",
              "    <button class=\"colab-df-convert\" onclick=\"convertToInteractive('df-48b84379-0e9c-40fe-827c-02017dc64374')\"\n",
              "            title=\"Convert this dataframe to an interactive table.\"\n",
              "            style=\"display:none;\">\n",
              "\n",
              "  <svg xmlns=\"http://www.w3.org/2000/svg\" height=\"24px\" viewBox=\"0 -960 960 960\">\n",
              "    <path d=\"M120-120v-720h720v720H120Zm60-500h600v-160H180v160Zm220 220h160v-160H400v160Zm0 220h160v-160H400v160ZM180-400h160v-160H180v160Zm440 0h160v-160H620v160ZM180-180h160v-160H180v160Zm440 0h160v-160H620v160Z\"/>\n",
              "  </svg>\n",
              "    </button>\n",
              "\n",
              "  <style>\n",
              "    .colab-df-container {\n",
              "      display:flex;\n",
              "      gap: 12px;\n",
              "    }\n",
              "\n",
              "    .colab-df-convert {\n",
              "      background-color: #E8F0FE;\n",
              "      border: none;\n",
              "      border-radius: 50%;\n",
              "      cursor: pointer;\n",
              "      display: none;\n",
              "      fill: #1967D2;\n",
              "      height: 32px;\n",
              "      padding: 0 0 0 0;\n",
              "      width: 32px;\n",
              "    }\n",
              "\n",
              "    .colab-df-convert:hover {\n",
              "      background-color: #E2EBFA;\n",
              "      box-shadow: 0px 1px 2px rgba(60, 64, 67, 0.3), 0px 1px 3px 1px rgba(60, 64, 67, 0.15);\n",
              "      fill: #174EA6;\n",
              "    }\n",
              "\n",
              "    .colab-df-buttons div {\n",
              "      margin-bottom: 4px;\n",
              "    }\n",
              "\n",
              "    [theme=dark] .colab-df-convert {\n",
              "      background-color: #3B4455;\n",
              "      fill: #D2E3FC;\n",
              "    }\n",
              "\n",
              "    [theme=dark] .colab-df-convert:hover {\n",
              "      background-color: #434B5C;\n",
              "      box-shadow: 0px 1px 3px 1px rgba(0, 0, 0, 0.15);\n",
              "      filter: drop-shadow(0px 1px 2px rgba(0, 0, 0, 0.3));\n",
              "      fill: #FFFFFF;\n",
              "    }\n",
              "  </style>\n",
              "\n",
              "    <script>\n",
              "      const buttonEl =\n",
              "        document.querySelector('#df-48b84379-0e9c-40fe-827c-02017dc64374 button.colab-df-convert');\n",
              "      buttonEl.style.display =\n",
              "        google.colab.kernel.accessAllowed ? 'block' : 'none';\n",
              "\n",
              "      async function convertToInteractive(key) {\n",
              "        const element = document.querySelector('#df-48b84379-0e9c-40fe-827c-02017dc64374');\n",
              "        const dataTable =\n",
              "          await google.colab.kernel.invokeFunction('convertToInteractive',\n",
              "                                                    [key], {});\n",
              "        if (!dataTable) return;\n",
              "\n",
              "        const docLinkHtml = 'Like what you see? Visit the ' +\n",
              "          '<a target=\"_blank\" href=https://colab.research.google.com/notebooks/data_table.ipynb>data table notebook</a>'\n",
              "          + ' to learn more about interactive tables.';\n",
              "        element.innerHTML = '';\n",
              "        dataTable['output_type'] = 'display_data';\n",
              "        await google.colab.output.renderOutput(dataTable, element);\n",
              "        const docLink = document.createElement('div');\n",
              "        docLink.innerHTML = docLinkHtml;\n",
              "        element.appendChild(docLink);\n",
              "      }\n",
              "    </script>\n",
              "  </div>\n",
              "\n",
              "\n",
              "<div id=\"df-e5e83ced-4e89-462c-b2bb-8068d9c2ffc9\">\n",
              "  <button class=\"colab-df-quickchart\" onclick=\"quickchart('df-e5e83ced-4e89-462c-b2bb-8068d9c2ffc9')\"\n",
              "            title=\"Suggest charts\"\n",
              "            style=\"display:none;\">\n",
              "\n",
              "<svg xmlns=\"http://www.w3.org/2000/svg\" height=\"24px\"viewBox=\"0 0 24 24\"\n",
              "     width=\"24px\">\n",
              "    <g>\n",
              "        <path d=\"M19 3H5c-1.1 0-2 .9-2 2v14c0 1.1.9 2 2 2h14c1.1 0 2-.9 2-2V5c0-1.1-.9-2-2-2zM9 17H7v-7h2v7zm4 0h-2V7h2v10zm4 0h-2v-4h2v4z\"/>\n",
              "    </g>\n",
              "</svg>\n",
              "  </button>\n",
              "\n",
              "<style>\n",
              "  .colab-df-quickchart {\n",
              "      --bg-color: #E8F0FE;\n",
              "      --fill-color: #1967D2;\n",
              "      --hover-bg-color: #E2EBFA;\n",
              "      --hover-fill-color: #174EA6;\n",
              "      --disabled-fill-color: #AAA;\n",
              "      --disabled-bg-color: #DDD;\n",
              "  }\n",
              "\n",
              "  [theme=dark] .colab-df-quickchart {\n",
              "      --bg-color: #3B4455;\n",
              "      --fill-color: #D2E3FC;\n",
              "      --hover-bg-color: #434B5C;\n",
              "      --hover-fill-color: #FFFFFF;\n",
              "      --disabled-bg-color: #3B4455;\n",
              "      --disabled-fill-color: #666;\n",
              "  }\n",
              "\n",
              "  .colab-df-quickchart {\n",
              "    background-color: var(--bg-color);\n",
              "    border: none;\n",
              "    border-radius: 50%;\n",
              "    cursor: pointer;\n",
              "    display: none;\n",
              "    fill: var(--fill-color);\n",
              "    height: 32px;\n",
              "    padding: 0;\n",
              "    width: 32px;\n",
              "  }\n",
              "\n",
              "  .colab-df-quickchart:hover {\n",
              "    background-color: var(--hover-bg-color);\n",
              "    box-shadow: 0 1px 2px rgba(60, 64, 67, 0.3), 0 1px 3px 1px rgba(60, 64, 67, 0.15);\n",
              "    fill: var(--button-hover-fill-color);\n",
              "  }\n",
              "\n",
              "  .colab-df-quickchart-complete:disabled,\n",
              "  .colab-df-quickchart-complete:disabled:hover {\n",
              "    background-color: var(--disabled-bg-color);\n",
              "    fill: var(--disabled-fill-color);\n",
              "    box-shadow: none;\n",
              "  }\n",
              "\n",
              "  .colab-df-spinner {\n",
              "    border: 2px solid var(--fill-color);\n",
              "    border-color: transparent;\n",
              "    border-bottom-color: var(--fill-color);\n",
              "    animation:\n",
              "      spin 1s steps(1) infinite;\n",
              "  }\n",
              "\n",
              "  @keyframes spin {\n",
              "    0% {\n",
              "      border-color: transparent;\n",
              "      border-bottom-color: var(--fill-color);\n",
              "      border-left-color: var(--fill-color);\n",
              "    }\n",
              "    20% {\n",
              "      border-color: transparent;\n",
              "      border-left-color: var(--fill-color);\n",
              "      border-top-color: var(--fill-color);\n",
              "    }\n",
              "    30% {\n",
              "      border-color: transparent;\n",
              "      border-left-color: var(--fill-color);\n",
              "      border-top-color: var(--fill-color);\n",
              "      border-right-color: var(--fill-color);\n",
              "    }\n",
              "    40% {\n",
              "      border-color: transparent;\n",
              "      border-right-color: var(--fill-color);\n",
              "      border-top-color: var(--fill-color);\n",
              "    }\n",
              "    60% {\n",
              "      border-color: transparent;\n",
              "      border-right-color: var(--fill-color);\n",
              "    }\n",
              "    80% {\n",
              "      border-color: transparent;\n",
              "      border-right-color: var(--fill-color);\n",
              "      border-bottom-color: var(--fill-color);\n",
              "    }\n",
              "    90% {\n",
              "      border-color: transparent;\n",
              "      border-bottom-color: var(--fill-color);\n",
              "    }\n",
              "  }\n",
              "</style>\n",
              "\n",
              "  <script>\n",
              "    async function quickchart(key) {\n",
              "      const quickchartButtonEl =\n",
              "        document.querySelector('#' + key + ' button');\n",
              "      quickchartButtonEl.disabled = true;  // To prevent multiple clicks.\n",
              "      quickchartButtonEl.classList.add('colab-df-spinner');\n",
              "      try {\n",
              "        const charts = await google.colab.kernel.invokeFunction(\n",
              "            'suggestCharts', [key], {});\n",
              "      } catch (error) {\n",
              "        console.error('Error during call to suggestCharts:', error);\n",
              "      }\n",
              "      quickchartButtonEl.classList.remove('colab-df-spinner');\n",
              "      quickchartButtonEl.classList.add('colab-df-quickchart-complete');\n",
              "    }\n",
              "    (() => {\n",
              "      let quickchartButtonEl =\n",
              "        document.querySelector('#df-e5e83ced-4e89-462c-b2bb-8068d9c2ffc9 button');\n",
              "      quickchartButtonEl.style.display =\n",
              "        google.colab.kernel.accessAllowed ? 'block' : 'none';\n",
              "    })();\n",
              "  </script>\n",
              "</div>\n",
              "    </div>\n",
              "  </div>\n"
            ],
            "application/vnd.google.colaboratory.intrinsic+json": {
              "type": "dataframe",
              "variable_name": "df2"
            }
          },
          "metadata": {},
          "execution_count": 105
        }
      ]
    },
    {
      "cell_type": "code",
      "source": [
        "df2 = pd.read_csv(filepath_or_buffer='/content/DE/bc_230215.csv',usecols=['EVENT_NO_TRIP','OPD_DATE', 'VEHICLE_ID', 'METERS', 'ACT_TIME', 'GPS_LONGITUDE', 'GPS_LATITUDE'])\n",
        "print(df2)"
      ],
      "metadata": {
        "colab": {
          "base_uri": "https://localhost:8080/"
        },
        "id": "t73E_2W7aSjo",
        "outputId": "08a7a328-d0e6-4ddf-de47-e170b68e2c98"
      },
      "execution_count": 106,
      "outputs": [
        {
          "output_type": "stream",
          "name": "stdout",
          "text": [
            "         EVENT_NO_TRIP            OPD_DATE  VEHICLE_ID  METERS  ACT_TIME  \\\n",
            "0            259173279  15FEB2023:00:00:00        4223  194493     71279   \n",
            "1            259173279  15FEB2023:00:00:00        4223  194525     71284   \n",
            "2            259173279  15FEB2023:00:00:00        4223  194562     71290   \n",
            "3            259173279  15FEB2023:00:00:00        4223  194598     71295   \n",
            "4            259173279  15FEB2023:00:00:00        4223  194628     71300   \n",
            "...                ...                 ...         ...     ...       ...   \n",
            "2221397      258480928  15FEB2023:00:00:00        4304  109998     69191   \n",
            "2221398      258480928  15FEB2023:00:00:00        4304  110041     69197   \n",
            "2221399      258480928  15FEB2023:00:00:00        4304  110079     69202   \n",
            "2221400      258480928  15FEB2023:00:00:00        4304  110114     69207   \n",
            "2221401      258480928  15FEB2023:00:00:00        4304  110160     69211   \n",
            "\n",
            "         GPS_LONGITUDE  GPS_LATITUDE  \n",
            "0          -122.679572     45.517122  \n",
            "1          -122.679408     45.517392  \n",
            "2          -122.679227     45.517700  \n",
            "3          -122.679048     45.517998  \n",
            "4          -122.678888     45.518255  \n",
            "...                ...           ...  \n",
            "2221397    -122.686300     45.594515  \n",
            "2221398    -122.686768     45.594723  \n",
            "2221399    -122.686840     45.595065  \n",
            "2221400    -122.686522     45.595262  \n",
            "2221401    -122.685990     45.595175  \n",
            "\n",
            "[2221402 rows x 7 columns]\n"
          ]
        }
      ]
    },
    {
      "cell_type": "code",
      "source": [
        "df2['OPD_DATE'] = pd.to_datetime(df2['OPD_DATE'], format='%d%b%Y:%H:%M:%S')\n",
        "df2['ACT_TIME'] = pd.to_timedelta(df2['ACT_TIME'], unit='s')\n",
        "df2['TIMESTAMP'] = df2['OPD_DATE'] + df2['ACT_TIME']\n",
        "df2 = df2.drop(columns= ['ACT_TIME', 'OPD_DATE'])\n",
        "print(df2.head())"
      ],
      "metadata": {
        "colab": {
          "base_uri": "https://localhost:8080/"
        },
        "id": "Slo40SgLaaaQ",
        "outputId": "9042c207-23e4-48c4-80f0-eca5a6a2ea70"
      },
      "execution_count": 107,
      "outputs": [
        {
          "output_type": "stream",
          "name": "stdout",
          "text": [
            "   EVENT_NO_TRIP  VEHICLE_ID  METERS  GPS_LONGITUDE  GPS_LATITUDE  \\\n",
            "0      259173279        4223  194493    -122.679572     45.517122   \n",
            "1      259173279        4223  194525    -122.679408     45.517392   \n",
            "2      259173279        4223  194562    -122.679227     45.517700   \n",
            "3      259173279        4223  194598    -122.679048     45.517998   \n",
            "4      259173279        4223  194628    -122.678888     45.518255   \n",
            "\n",
            "            TIMESTAMP  \n",
            "0 2023-02-15 19:47:59  \n",
            "1 2023-02-15 19:48:04  \n",
            "2 2023-02-15 19:48:10  \n",
            "3 2023-02-15 19:48:15  \n",
            "4 2023-02-15 19:48:20  \n"
          ]
        }
      ]
    },
    {
      "cell_type": "code",
      "source": [
        "df2 = df2.groupby(['VEHICLE_ID', 'EVENT_NO_TRIP']).apply(calculate_speed)\n",
        "df2 = df2.drop(columns=['METERS'])\n",
        "print(df2)"
      ],
      "metadata": {
        "colab": {
          "base_uri": "https://localhost:8080/"
        },
        "id": "B87DSdQBauLf",
        "outputId": "02144f84-aa1b-475e-a90c-1a0efe322bd5"
      },
      "execution_count": 108,
      "outputs": [
        {
          "output_type": "stream",
          "name": "stdout",
          "text": [
            "                                 EVENT_NO_TRIP  VEHICLE_ID  GPS_LONGITUDE  \\\n",
            "VEHICLE_ID EVENT_NO_TRIP                                                    \n",
            "2912       259167509     15898       259167509        2912    -122.844125   \n",
            "                         15899       259167509        2912    -122.844180   \n",
            "                         15900       259167509        2912    -122.844322   \n",
            "                         15901       259167509        2912    -122.844243   \n",
            "                         15902       259167509        2912    -122.844078   \n",
            "...                                        ...         ...            ...   \n",
            "4531       258230458     138345      258230458        4531    -122.562605   \n",
            "                         138346      258230458        4531    -122.562910   \n",
            "                         138347      258230458        4531    -122.563113   \n",
            "                         138348      258230458        4531    -122.563198   \n",
            "                         138349      258230458        4531    -122.563335   \n",
            "\n",
            "                                 GPS_LATITUDE           TIMESTAMP     SPEED  \n",
            "VEHICLE_ID EVENT_NO_TRIP                                                     \n",
            "2912       259167509     15898      45.503445 2023-02-15 15:51:11  0.000000  \n",
            "                         15899      45.503458 2023-02-15 15:51:16  0.800000  \n",
            "                         15900      45.503538 2023-02-15 15:51:21  3.200000  \n",
            "                         15901      45.503755 2023-02-15 15:51:26  5.000000  \n",
            "                         15902      45.504017 2023-02-15 15:51:31  6.200000  \n",
            "...                                       ...                 ...       ...  \n",
            "4531       258230458     138345     45.494577 2023-02-15 13:24:45  0.800000  \n",
            "                         138346     45.494578 2023-02-15 13:25:20  0.714286  \n",
            "                         138347     45.494635 2023-02-15 13:25:25  3.200000  \n",
            "                         138348     45.494763 2023-02-15 13:25:30  3.000000  \n",
            "                         138349     45.494837 2023-02-15 13:25:35  3.200000  \n",
            "\n",
            "[2221402 rows x 6 columns]\n"
          ]
        },
        {
          "output_type": "stream",
          "name": "stderr",
          "text": [
            "<ipython-input-108-3e19c7931c91>:1: DeprecationWarning: DataFrameGroupBy.apply operated on the grouping columns. This behavior is deprecated, and in a future version of pandas the grouping columns will be excluded from the operation. Either pass `include_groups=False` to exclude the groupings or explicitly select the grouping columns after groupby to silence this warning.\n",
            "  df2 = df2.groupby(['VEHICLE_ID', 'EVENT_NO_TRIP']).apply(calculate_speed)\n"
          ]
        }
      ]
    },
    {
      "cell_type": "code",
      "source": [
        "max_speed = df2['SPEED'].max()\n",
        "max_speed_details = df2.loc[df2['SPEED'] == max_speed]\n",
        "print(max_speed_details)"
      ],
      "metadata": {
        "colab": {
          "base_uri": "https://localhost:8080/"
        },
        "id": "JDPgf8Q0fT73",
        "outputId": "c248a90e-71d8-46f8-f3df-16cd744225b7"
      },
      "execution_count": 102,
      "outputs": [
        {
          "output_type": "stream",
          "name": "stdout",
          "text": [
            "                                  EVENT_NO_TRIP  VEHICLE_ID  GPS_LONGITUDE  \\\n",
            "VEHICLE_ID EVENT_NO_TRIP                                                     \n",
            "3244       258750515     1734683      258750515        3244    -122.879553   \n",
            "\n",
            "                                  GPS_LATITUDE           TIMESTAMP       SPEED  \n",
            "VEHICLE_ID EVENT_NO_TRIP                                                        \n",
            "3244       258750515     1734683     45.509918 2023-02-15 18:05:38  200.333333  \n"
          ]
        }
      ]
    },
    {
      "cell_type": "code",
      "source": [
        "mean_speed = df2.groupby(level=['VEHICLE_ID', 'EVENT_NO_TRIP'])['SPEED'].mean()\n",
        "\n",
        "max_mean_speed = mean_speed.max()\n",
        "fastest_vehicle_trip = mean_speed.idxmax()\n",
        "\n",
        "print(f\"The vehicle and trip with the fastest mean speed were Vehicle ID: {fastest_vehicle_trip[0]}, Trip ID: {fastest_vehicle_trip[1]}\")\n",
        "print(f\"This mean speed was {max_mean_speed} meters per second.\")"
      ],
      "metadata": {
        "colab": {
          "base_uri": "https://localhost:8080/"
        },
        "id": "MLyecoBnk5TM",
        "outputId": "e7caebb5-bfb0-4b5d-e20a-019f2f391630"
      },
      "execution_count": 111,
      "outputs": [
        {
          "output_type": "stream",
          "name": "stdout",
          "text": [
            "The vehicle and trip with the fastest mean speed were Vehicle ID: 3419, Trip ID: 258614729\n",
            "This mean speed was 21.889053500310045 meters per second.\n"
          ]
        }
      ]
    }
  ]
}