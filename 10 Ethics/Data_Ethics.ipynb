{
  "nbformat": 4,
  "nbformat_minor": 0,
  "metadata": {
    "colab": {
      "provenance": []
    },
    "kernelspec": {
      "name": "python3",
      "display_name": "Python 3"
    },
    "language_info": {
      "name": "python"
    }
  },
  "cells": [
    {
      "cell_type": "code",
      "execution_count": 4,
      "metadata": {
        "colab": {
          "base_uri": "https://localhost:8080/"
        },
        "id": "dfii4Oi8tPTi",
        "outputId": "b4118f6a-2eb7-4125-e609-f6a8162c294a"
      },
      "outputs": [
        {
          "output_type": "stream",
          "name": "stdout",
          "text": [
            "Requirement already satisfied: Faker in /usr/local/lib/python3.10/dist-packages (25.8.0)\n",
            "Requirement already satisfied: python-dateutil>=2.4 in /usr/local/lib/python3.10/dist-packages (from Faker) (2.8.2)\n",
            "Requirement already satisfied: six>=1.5 in /usr/local/lib/python3.10/dist-packages (from python-dateutil>=2.4->Faker) (1.16.0)\n"
          ]
        }
      ],
      "source": [
        "!pip install Faker\n",
        "\n",
        "import csv\n",
        "from faker import Faker\n",
        "import random\n",
        "from collections import defaultdict\n",
        "import pandas as pd"
      ]
    },
    {
      "cell_type": "code",
      "source": [
        "df = pd.read_csv('/content/employees.csv')\n",
        "print(\"Current columns:\", list(df.columns))"
      ],
      "metadata": {
        "colab": {
          "base_uri": "https://localhost:8080/"
        },
        "id": "Zpd_v5YEt4fP",
        "outputId": "07064f0f-4244-4904-87e5-648fc9069609"
      },
      "execution_count": 5,
      "outputs": [
        {
          "output_type": "stream",
          "name": "stdout",
          "text": [
            "Current columns: ['First Name', 'Last Name', 'Email', 'Phone', 'Gender', 'Age', 'Job Title', 'Years Of Experience', 'Salary', 'Department']\n"
          ]
        }
      ]
    },
    {
      "cell_type": "code",
      "source": [
        "fake = Faker()\n",
        "fake_in = Faker('hi_IN')  # India\n",
        "fake_cn = Faker('zh_CN')  # Mainland China\n",
        "fake_ca = Faker('en_CA')  # Canada\n",
        "fake_kr = Faker('ko_KR')  # South Korea\n",
        "fake_ph = Faker('fil_PH')  # Philippines\n",
        "fake_tw = Faker('zh_TW')  # Taiwan\n",
        "fake_mx = Faker('es_MX')  # Mexico"
      ],
      "metadata": {
        "id": "ytyRkaLmtTP3"
      },
      "execution_count": 6,
      "outputs": []
    },
    {
      "cell_type": "code",
      "source": [
        "h1b_percentages = {\n",
        "    'India': 0.729, 'China': 0.137, 'Canada': 0.024, 'South Korea': 0.019,\n",
        "    'Philippines': 0.015, 'Taiwan': 0.009, 'Mexico': 0.008\n",
        "}\n",
        "\n",
        "languages = ['Spanish', 'Mandarin', 'French', 'Arabic', 'Russian', 'Japanese', 'German', 'Korean', 'Portuguese', 'Italian']\n",
        "\n",
        "departments = {\n",
        "    'Legal': 0.05, 'Marketing': 0.10, 'Administrative': 0.10, 'Operations': 0.20,\n",
        "    'Sales': 0.10, 'Finance': 0.05, 'I/T': 0.10, 'Product': 0.20, 'Human Resource': 0.10\n",
        "}\n",
        "\n",
        "salary_ranges = {\n",
        "    'Legal': (80000, 200000), 'Marketing': (40000, 110000), 'Administrative': (35000, 80000),\n",
        "    'Operations': (50000, 150000), 'Sales': (40000, 120000), 'Finance': (60000, 180000),\n",
        "    'I/T': (70000, 160000), 'Product': (80000, 200000), 'Human Resource': (50000, 120000)\n",
        "}"
      ],
      "metadata": {
        "id": "lnbHPdxctXQD"
      },
      "execution_count": 7,
      "outputs": []
    },
    {
      "cell_type": "code",
      "source": [
        "def generate_name(gender, country):\n",
        "    if country == 'USA':\n",
        "        first_name = fake.first_name_male() if gender == 'M' else fake.first_name_female()\n",
        "        last_name = fake.last_name()\n",
        "    elif country == 'India': first_name, last_name = fake_in.first_name(), fake_in.last_name()\n",
        "    elif country == 'China': first_name, last_name = fake_cn.first_name(), fake_cn.last_name()\n",
        "    elif country == 'Canada': first_name, last_name = fake_ca.first_name(), fake_ca.last_name()\n",
        "    elif country == 'South Korea': first_name, last_name = fake_kr.first_name(), fake_kr.last_name()\n",
        "    elif country == 'Philippines': first_name, last_name = fake_ph.first_name(), fake_ph.last_name()\n",
        "    elif country == 'Taiwan': first_name, last_name = fake_tw.first_name(), fake_tw.last_name()\n",
        "    elif country == 'Mexico': first_name, last_name = fake_mx.first_name(), fake_mx.last_name()\n",
        "    return first_name, last_name"
      ],
      "metadata": {
        "id": "cah-KUPpuGcB"
      },
      "execution_count": 11,
      "outputs": []
    },
    {
      "cell_type": "code",
      "source": [
        "def generate_employee(employee_id, gender):\n",
        "    is_usa_citizen = random.random() > 0.4\n",
        "    country = 'USA' if is_usa_citizen else random.choices(list(h1b_percentages.keys()), weights=list(h1b_percentages.values()))[0]\n",
        "    first_name, last_name = generate_name(gender, country)\n",
        "\n",
        "    ssn = fake.ssn() if is_usa_citizen else fake.unique.random_number(digits=9)\n",
        "    department = random.choices(list(departments.keys()), weights=list(departments.values()))[0]\n",
        "    salary_min, salary_max = salary_ranges[department]\n",
        "    salary = round(random.uniform(salary_min, salary_max), 2)\n",
        "\n",
        "    num_languages = random.choices([0, 1, 2], weights=[0.5, 0.3, 0.2])[0]\n",
        "    employee_languages = random.sample(languages, num_languages)\n",
        "\n",
        "    employee_data = {\n",
        "        'First Name': first_name,\n",
        "        'Last Name': last_name,\n",
        "        'Email': fake.email(),\n",
        "        'Phone': fake.phone_number(),\n",
        "        'Gender': gender,\n",
        "        'Age': random.randint(22, 65),\n",
        "        'Job Title': fake.job(),\n",
        "        'Years Of Experience': random.randint(0, 40),\n",
        "        'Salary': salary,\n",
        "        'Department': department,\n",
        "        'Country': country,\n",
        "        'SSN': ssn,\n",
        "        'Languages': ','.join(employee_languages) if employee_languages else 'None'\n",
        "    }\n",
        "\n",
        "    return employee_data"
      ],
      "metadata": {
        "id": "X2aAX-zpuOJz"
      },
      "execution_count": 12,
      "outputs": []
    },
    {
      "cell_type": "code",
      "source": [
        "employees = []\n",
        "for i in range(1, 10001):\n",
        "    gender = 'F' if i <= 5000 else 'M'\n",
        "    employees.append(generate_employee(i, gender))\n",
        "\n",
        "# Convert to DataFrame\n",
        "synthetic_df = pd.DataFrame(employees)\n",
        "\n",
        "# Reorder columns to match the original dataset, then add new columns\n",
        "original_columns = df.columns.tolist()\n",
        "new_columns = ['Country', 'SSN', 'Languages']\n",
        "synthetic_df = synthetic_df[original_columns + new_columns]\n",
        "\n",
        "print(\"Synthetic data columns:\", list(synthetic_df.columns))\n",
        "print(\"\\nFirst few rows of synthetic data:\")\n",
        "print(synthetic_df.head(10))\n",
        "\n",
        "# Save to CSV\n",
        "synthetic_df.to_csv('synthetic_employees_10k.csv', index=False)\n",
        "print(\"\\n10,000 synthetic employee records generated and saved to 'synthetic_employees_10k.csv'.\")"
      ],
      "metadata": {
        "colab": {
          "base_uri": "https://localhost:8080/"
        },
        "id": "Ssf5yxpsuPGC",
        "outputId": "91d674d9-455d-4141-ee67-88431dd75031"
      },
      "execution_count": 13,
      "outputs": [
        {
          "output_type": "stream",
          "name": "stdout",
          "text": [
            "Synthetic data columns: ['First Name', 'Last Name', 'Email', 'Phone', 'Gender', 'Age', 'Job Title', 'Years Of Experience', 'Salary', 'Department', 'Country', 'SSN', 'Languages']\n",
            "\n",
            "First few rows of synthetic data:\n",
            "  First Name Last Name                       Email                   Phone  \\\n",
            "0     Shelly    Obrien       hthompson@example.net       857-683-8109x1242   \n",
            "1      Donna  Gonzales         wrogers@example.com    001-586-443-3642x586   \n",
            "2      Julie      Ford  elizabethgiles@example.org   001-447-589-4481x9306   \n",
            "3      Linda    Stuart          usmith@example.com  001-243-454-1151x20985   \n",
            "4     अद्वैत    नूरानी        joshua19@example.net            786.218.0437   \n",
            "5      Donna      Hunt     isaiahsmith@example.com     (602)999-9687x98755   \n",
            "6     Hannah  Mitchell     stevenbrown@example.net         +1-660-865-6135   \n",
            "7        साई      दयाल     kathybarnes@example.net         +1-633-620-7136   \n",
            "8       अशोक      मंडल         larry96@example.com        331-854-4773x022   \n",
            "9      राजीव      भारत       ffletcher@example.org       215-790-4597x8270   \n",
            "\n",
            "  Gender  Age                                Job Title  Years Of Experience  \\\n",
            "0      F   34                                  Dentist                   34   \n",
            "1      F   64                              Illustrator                   26   \n",
            "2      F   41                            Airline pilot                   31   \n",
            "3      F   25  Scientist, research (physical sciences)                    6   \n",
            "4      F   56                    Engineering geologist                   10   \n",
            "5      F   42                  Therapist, occupational                   11   \n",
            "6      F   28                             Tour manager                    9   \n",
            "7      F   56                               Counsellor                   25   \n",
            "8      F   45                         Therapist, drama                    5   \n",
            "9      F   49                   Surveyor, hydrographic                   18   \n",
            "\n",
            "      Salary  Department Country          SSN          Languages  \n",
            "0   88978.30     Product     USA  317-72-6683           Mandarin  \n",
            "1  143845.28  Operations     USA  403-58-0454    German,Japanese  \n",
            "2  138544.27  Operations     USA  708-80-1085            Russian  \n",
            "3  134874.77     Product     USA  655-50-9942             French  \n",
            "4   66973.34  Operations   India    718563139    Japanese,German  \n",
            "5   78887.99  Operations     USA  066-33-2499               None  \n",
            "6  135787.97       Legal     USA  440-27-7236               None  \n",
            "7  101259.97       Sales   India    522855545  German,Portuguese  \n",
            "8  180491.38     Product   India     79468211            Russian  \n",
            "9   77453.53       Sales   India    550951592             French  \n",
            "\n",
            "10,000 synthetic employee records generated and saved to 'synthetic_employees_10k.csv'.\n"
          ]
        }
      ]
    },
    {
      "cell_type": "code",
      "source": [
        "df1 = pd.read_csv('/content/synthetic_employees_10k.csv')"
      ],
      "metadata": {
        "id": "cTr2rZ4ov7Ov"
      },
      "execution_count": 14,
      "outputs": []
    },
    {
      "cell_type": "code",
      "source": [
        "gender_dept = df1.groupby('Department')['Gender'].value_counts().unstack()\n",
        "print(\"\\nGender distribution by department:\")\n",
        "print(gender_dept)"
      ],
      "metadata": {
        "colab": {
          "base_uri": "https://localhost:8080/"
        },
        "id": "MwvGHxEdwCYU",
        "outputId": "1e581b5a-4bf0-4ea6-e15e-b9feb3240073"
      },
      "execution_count": 15,
      "outputs": [
        {
          "output_type": "stream",
          "name": "stdout",
          "text": [
            "\n",
            "Gender distribution by department:\n",
            "Gender            F    M\n",
            "Department              \n",
            "Administrative  486  509\n",
            "Finance         239  247\n",
            "Human Resource  516  558\n",
            "I/T             514  480\n",
            "Legal           242  245\n",
            "Marketing       523  477\n",
            "Operations      965  976\n",
            "Product         997  980\n",
            "Sales           518  528\n"
          ]
        }
      ]
    },
    {
      "cell_type": "code",
      "source": [
        "current_employees = 320\n",
        "scale_factor = 10000 / current_employees\n",
        "employees_to_hire = gender_dept * (scale_factor - 1)"
      ],
      "metadata": {
        "id": "KmH44lb7wGfZ"
      },
      "execution_count": 16,
      "outputs": []
    },
    {
      "cell_type": "code",
      "source": [
        "print(\"\\nEmployees to hire by department and gender:\")\n",
        "print(employees_to_hire.astype(int))"
      ],
      "metadata": {
        "colab": {
          "base_uri": "https://localhost:8080/"
        },
        "id": "G2tbbWvswMPc",
        "outputId": "2ca00337-62ab-4234-e052-0459ec58109c"
      },
      "execution_count": 17,
      "outputs": [
        {
          "output_type": "stream",
          "name": "stdout",
          "text": [
            "\n",
            "Employees to hire by department and gender:\n",
            "Gender              F      M\n",
            "Department                  \n",
            "Administrative  14701  15397\n",
            "Finance          7229   7471\n",
            "Human Resource  15609  16879\n",
            "I/T             15548  14520\n",
            "Legal            7320   7411\n",
            "Marketing       15820  14429\n",
            "Operations      29191  29524\n",
            "Product         30159  29645\n",
            "Sales           15669  15972\n"
          ]
        }
      ]
    },
    {
      "cell_type": "code",
      "source": [
        "total_payroll = df1['Salary'].sum()\n",
        "print(f\"\\nTotal yearly payroll for the new company: ${total_payroll:,.2f}\")"
      ],
      "metadata": {
        "colab": {
          "base_uri": "https://localhost:8080/"
        },
        "id": "JBJQ_j7BwOPO",
        "outputId": "552f8466-021e-4976-e04a-c764841f9afa"
      },
      "execution_count": 20,
      "outputs": [
        {
          "output_type": "stream",
          "name": "stdout",
          "text": [
            "\n",
            "Total yearly payroll for the new company: $1,022,123,179.52\n"
          ]
        }
      ]
    },
    {
      "cell_type": "code",
      "source": [
        "avg_salary_dept = df1.groupby('Department')['Salary'].mean()\n",
        "print(\"\\nAverage salary by department:\")\n",
        "print(avg_salary_dept)"
      ],
      "metadata": {
        "colab": {
          "base_uri": "https://localhost:8080/"
        },
        "id": "qeoLbXLQwRMy",
        "outputId": "7a70694e-20b8-4615-eec1-6f34fda2b93e"
      },
      "execution_count": 21,
      "outputs": [
        {
          "output_type": "stream",
          "name": "stdout",
          "text": [
            "\n",
            "Average salary by department:\n",
            "Department\n",
            "Administrative     57311.634372\n",
            "Finance           124058.371132\n",
            "Human Resource     84178.605363\n",
            "I/T               114869.753531\n",
            "Legal             140869.746674\n",
            "Marketing          74112.075520\n",
            "Operations        101376.195945\n",
            "Product           139781.701603\n",
            "Sales              80671.238270\n",
            "Name: Salary, dtype: float64\n"
          ]
        }
      ]
    }
  ]
}